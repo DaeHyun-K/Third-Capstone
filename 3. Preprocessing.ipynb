{
 "cells": [
  {
   "cell_type": "markdown",
   "metadata": {},
   "source": [
    "The problem I would like to solve is to identify key features related to the churning credit card customers. I got the data and the idea from the Kaggle website https://www.kaggle.com/sakshigoyal7/credit-card-customers. \n",
    "\n",
    "## Preprocessing\n",
    "\n",
    "This preprocessing step involves scaling the data and creating dummy variables. I will also apply a baseline algorithm to set the baseline for future models. In particular, I will create a simple prediction algorithm that assumes every customer will not churn as a baseline."
   ]
  },
  {
   "cell_type": "code",
   "execution_count": 1,
   "metadata": {},
   "outputs": [],
   "source": [
    "# First thing to do is to import modules\n",
    "import numpy as np\n",
    "import pandas as pd"
   ]
  },
  {
   "cell_type": "code",
   "execution_count": 2,
   "metadata": {},
   "outputs": [],
   "source": [
    "# Loading the data\n",
    "df = pd.read_csv('Bank.csv')"
   ]
  },
  {
   "cell_type": "code",
   "execution_count": 4,
   "metadata": {},
   "outputs": [
    {
     "data": {
      "text/html": [
       "<div>\n",
       "<style scoped>\n",
       "    .dataframe tbody tr th:only-of-type {\n",
       "        vertical-align: middle;\n",
       "    }\n",
       "\n",
       "    .dataframe tbody tr th {\n",
       "        vertical-align: top;\n",
       "    }\n",
       "\n",
       "    .dataframe thead th {\n",
       "        text-align: right;\n",
       "    }\n",
       "</style>\n",
       "<table border=\"1\" class=\"dataframe\">\n",
       "  <thead>\n",
       "    <tr style=\"text-align: right;\">\n",
       "      <th></th>\n",
       "      <th>0</th>\n",
       "      <th>1</th>\n",
       "      <th>2</th>\n",
       "      <th>3</th>\n",
       "      <th>4</th>\n",
       "    </tr>\n",
       "  </thead>\n",
       "  <tbody>\n",
       "    <tr>\n",
       "      <th>CLIENTNUM</th>\n",
       "      <td>768805383</td>\n",
       "      <td>818770008</td>\n",
       "      <td>713982108</td>\n",
       "      <td>769911858</td>\n",
       "      <td>709106358</td>\n",
       "    </tr>\n",
       "    <tr>\n",
       "      <th>Attrition_Flag</th>\n",
       "      <td>0</td>\n",
       "      <td>0</td>\n",
       "      <td>0</td>\n",
       "      <td>0</td>\n",
       "      <td>0</td>\n",
       "    </tr>\n",
       "    <tr>\n",
       "      <th>Customer_Age</th>\n",
       "      <td>45</td>\n",
       "      <td>49</td>\n",
       "      <td>51</td>\n",
       "      <td>40</td>\n",
       "      <td>40</td>\n",
       "    </tr>\n",
       "    <tr>\n",
       "      <th>Gender</th>\n",
       "      <td>0</td>\n",
       "      <td>1</td>\n",
       "      <td>0</td>\n",
       "      <td>1</td>\n",
       "      <td>0</td>\n",
       "    </tr>\n",
       "    <tr>\n",
       "      <th>Dependent_count</th>\n",
       "      <td>3</td>\n",
       "      <td>5</td>\n",
       "      <td>3</td>\n",
       "      <td>4</td>\n",
       "      <td>3</td>\n",
       "    </tr>\n",
       "    <tr>\n",
       "      <th>Education_Level</th>\n",
       "      <td>High School</td>\n",
       "      <td>Graduate</td>\n",
       "      <td>Graduate</td>\n",
       "      <td>High School</td>\n",
       "      <td>Uneducated</td>\n",
       "    </tr>\n",
       "    <tr>\n",
       "      <th>Marital_Status</th>\n",
       "      <td>Married</td>\n",
       "      <td>Single</td>\n",
       "      <td>Married</td>\n",
       "      <td>Unknown</td>\n",
       "      <td>Married</td>\n",
       "    </tr>\n",
       "    <tr>\n",
       "      <th>Income_Category</th>\n",
       "      <td>$60K - $80K</td>\n",
       "      <td>Less than $40K</td>\n",
       "      <td>$80K - $120K</td>\n",
       "      <td>Less than $40K</td>\n",
       "      <td>$60K - $80K</td>\n",
       "    </tr>\n",
       "    <tr>\n",
       "      <th>Card_Category</th>\n",
       "      <td>Blue</td>\n",
       "      <td>Blue</td>\n",
       "      <td>Blue</td>\n",
       "      <td>Blue</td>\n",
       "      <td>Blue</td>\n",
       "    </tr>\n",
       "    <tr>\n",
       "      <th>Months_on_book</th>\n",
       "      <td>39</td>\n",
       "      <td>44</td>\n",
       "      <td>36</td>\n",
       "      <td>34</td>\n",
       "      <td>21</td>\n",
       "    </tr>\n",
       "    <tr>\n",
       "      <th>Total_Relationship_Count</th>\n",
       "      <td>5</td>\n",
       "      <td>6</td>\n",
       "      <td>4</td>\n",
       "      <td>3</td>\n",
       "      <td>5</td>\n",
       "    </tr>\n",
       "    <tr>\n",
       "      <th>Months_Inactive_12_mon</th>\n",
       "      <td>1</td>\n",
       "      <td>1</td>\n",
       "      <td>1</td>\n",
       "      <td>4</td>\n",
       "      <td>1</td>\n",
       "    </tr>\n",
       "    <tr>\n",
       "      <th>Contacts_Count_12_mon</th>\n",
       "      <td>3</td>\n",
       "      <td>2</td>\n",
       "      <td>0</td>\n",
       "      <td>1</td>\n",
       "      <td>0</td>\n",
       "    </tr>\n",
       "    <tr>\n",
       "      <th>Credit_Limit</th>\n",
       "      <td>12691</td>\n",
       "      <td>8256</td>\n",
       "      <td>3418</td>\n",
       "      <td>3313</td>\n",
       "      <td>4716</td>\n",
       "    </tr>\n",
       "    <tr>\n",
       "      <th>Total_Revolving_Bal</th>\n",
       "      <td>777</td>\n",
       "      <td>864</td>\n",
       "      <td>0</td>\n",
       "      <td>2517</td>\n",
       "      <td>0</td>\n",
       "    </tr>\n",
       "    <tr>\n",
       "      <th>Avg_Open_To_Buy</th>\n",
       "      <td>11914</td>\n",
       "      <td>7392</td>\n",
       "      <td>3418</td>\n",
       "      <td>796</td>\n",
       "      <td>4716</td>\n",
       "    </tr>\n",
       "    <tr>\n",
       "      <th>Total_Amt_Chng_Q4_Q1</th>\n",
       "      <td>1.335</td>\n",
       "      <td>1.541</td>\n",
       "      <td>2.594</td>\n",
       "      <td>1.405</td>\n",
       "      <td>2.175</td>\n",
       "    </tr>\n",
       "    <tr>\n",
       "      <th>Total_Trans_Amt</th>\n",
       "      <td>1144</td>\n",
       "      <td>1291</td>\n",
       "      <td>1887</td>\n",
       "      <td>1171</td>\n",
       "      <td>816</td>\n",
       "    </tr>\n",
       "    <tr>\n",
       "      <th>Total_Trans_Ct</th>\n",
       "      <td>42</td>\n",
       "      <td>33</td>\n",
       "      <td>20</td>\n",
       "      <td>20</td>\n",
       "      <td>28</td>\n",
       "    </tr>\n",
       "    <tr>\n",
       "      <th>Total_Ct_Chng_Q4_Q1</th>\n",
       "      <td>1.625</td>\n",
       "      <td>3.714</td>\n",
       "      <td>2.333</td>\n",
       "      <td>2.333</td>\n",
       "      <td>2.5</td>\n",
       "    </tr>\n",
       "    <tr>\n",
       "      <th>Avg_Utilization_Ratio</th>\n",
       "      <td>0.061</td>\n",
       "      <td>0.105</td>\n",
       "      <td>0</td>\n",
       "      <td>0.76</td>\n",
       "      <td>0</td>\n",
       "    </tr>\n",
       "  </tbody>\n",
       "</table>\n",
       "</div>"
      ],
      "text/plain": [
       "                                    0               1             2  \\\n",
       "CLIENTNUM                   768805383       818770008     713982108   \n",
       "Attrition_Flag                      0               0             0   \n",
       "Customer_Age                       45              49            51   \n",
       "Gender                              0               1             0   \n",
       "Dependent_count                     3               5             3   \n",
       "Education_Level           High School        Graduate      Graduate   \n",
       "Marital_Status                Married          Single       Married   \n",
       "Income_Category           $60K - $80K  Less than $40K  $80K - $120K   \n",
       "Card_Category                    Blue            Blue          Blue   \n",
       "Months_on_book                     39              44            36   \n",
       "Total_Relationship_Count            5               6             4   \n",
       "Months_Inactive_12_mon              1               1             1   \n",
       "Contacts_Count_12_mon               3               2             0   \n",
       "Credit_Limit                    12691            8256          3418   \n",
       "Total_Revolving_Bal               777             864             0   \n",
       "Avg_Open_To_Buy                 11914            7392          3418   \n",
       "Total_Amt_Chng_Q4_Q1            1.335           1.541         2.594   \n",
       "Total_Trans_Amt                  1144            1291          1887   \n",
       "Total_Trans_Ct                     42              33            20   \n",
       "Total_Ct_Chng_Q4_Q1             1.625           3.714         2.333   \n",
       "Avg_Utilization_Ratio           0.061           0.105             0   \n",
       "\n",
       "                                       3            4  \n",
       "CLIENTNUM                      769911858    709106358  \n",
       "Attrition_Flag                         0            0  \n",
       "Customer_Age                          40           40  \n",
       "Gender                                 1            0  \n",
       "Dependent_count                        4            3  \n",
       "Education_Level              High School   Uneducated  \n",
       "Marital_Status                   Unknown      Married  \n",
       "Income_Category           Less than $40K  $60K - $80K  \n",
       "Card_Category                       Blue         Blue  \n",
       "Months_on_book                        34           21  \n",
       "Total_Relationship_Count               3            5  \n",
       "Months_Inactive_12_mon                 4            1  \n",
       "Contacts_Count_12_mon                  1            0  \n",
       "Credit_Limit                        3313         4716  \n",
       "Total_Revolving_Bal                 2517            0  \n",
       "Avg_Open_To_Buy                      796         4716  \n",
       "Total_Amt_Chng_Q4_Q1               1.405        2.175  \n",
       "Total_Trans_Amt                     1171          816  \n",
       "Total_Trans_Ct                        20           28  \n",
       "Total_Ct_Chng_Q4_Q1                2.333          2.5  \n",
       "Avg_Utilization_Ratio               0.76            0  "
      ]
     },
     "execution_count": 4,
     "metadata": {},
     "output_type": "execute_result"
    }
   ],
   "source": [
    "# Check the data\n",
    "df.head().T"
   ]
  },
  {
   "cell_type": "code",
   "execution_count": 5,
   "metadata": {},
   "outputs": [
    {
     "name": "stdout",
     "output_type": "stream",
     "text": [
      "<class 'pandas.core.frame.DataFrame'>\n",
      "RangeIndex: 10127 entries, 0 to 10126\n",
      "Data columns (total 21 columns):\n",
      " #   Column                    Non-Null Count  Dtype  \n",
      "---  ------                    --------------  -----  \n",
      " 0   CLIENTNUM                 10127 non-null  int64  \n",
      " 1   Attrition_Flag            10127 non-null  int64  \n",
      " 2   Customer_Age              10127 non-null  int64  \n",
      " 3   Gender                    10127 non-null  int64  \n",
      " 4   Dependent_count           10127 non-null  int64  \n",
      " 5   Education_Level           10127 non-null  object \n",
      " 6   Marital_Status            10127 non-null  object \n",
      " 7   Income_Category           10127 non-null  object \n",
      " 8   Card_Category             10127 non-null  object \n",
      " 9   Months_on_book            10127 non-null  int64  \n",
      " 10  Total_Relationship_Count  10127 non-null  int64  \n",
      " 11  Months_Inactive_12_mon    10127 non-null  int64  \n",
      " 12  Contacts_Count_12_mon     10127 non-null  int64  \n",
      " 13  Credit_Limit              10127 non-null  float64\n",
      " 14  Total_Revolving_Bal       10127 non-null  int64  \n",
      " 15  Avg_Open_To_Buy           10127 non-null  float64\n",
      " 16  Total_Amt_Chng_Q4_Q1      10127 non-null  float64\n",
      " 17  Total_Trans_Amt           10127 non-null  int64  \n",
      " 18  Total_Trans_Ct            10127 non-null  int64  \n",
      " 19  Total_Ct_Chng_Q4_Q1       10127 non-null  float64\n",
      " 20  Avg_Utilization_Ratio     10127 non-null  float64\n",
      "dtypes: float64(5), int64(12), object(4)\n",
      "memory usage: 1.6+ MB\n"
     ]
    }
   ],
   "source": [
    "df.info()"
   ]
  },
  {
   "cell_type": "markdown",
   "metadata": {},
   "source": [
    "* __Attrition_Flag__ will be our target variable, so I will separate this and store as y.\n",
    "* __Education_Level, Marital_Status, Income_Category__ and __Card_Category__ are all categorical values so I will have to create dummy variables for these columns.\n",
    "* __CLIENTNUM__ is just a unique value for each customer so I will drop this column.\n",
    "* I will be running the standard scaling to scale the remaining data"
   ]
  },
  {
   "cell_type": "markdown",
   "metadata": {},
   "source": [
    "### 1. dropping columns\n",
    "\n",
    "I will drop __CLIENTNUM__ column"
   ]
  },
  {
   "cell_type": "code",
   "execution_count": 7,
   "metadata": {},
   "outputs": [],
   "source": [
    "df.drop(columns=['CLIENTNUM'], inplace=True)"
   ]
  },
  {
   "cell_type": "code",
   "execution_count": 8,
   "metadata": {},
   "outputs": [
    {
     "name": "stdout",
     "output_type": "stream",
     "text": [
      "<class 'pandas.core.frame.DataFrame'>\n",
      "RangeIndex: 10127 entries, 0 to 10126\n",
      "Data columns (total 20 columns):\n",
      " #   Column                    Non-Null Count  Dtype  \n",
      "---  ------                    --------------  -----  \n",
      " 0   Attrition_Flag            10127 non-null  int64  \n",
      " 1   Customer_Age              10127 non-null  int64  \n",
      " 2   Gender                    10127 non-null  int64  \n",
      " 3   Dependent_count           10127 non-null  int64  \n",
      " 4   Education_Level           10127 non-null  object \n",
      " 5   Marital_Status            10127 non-null  object \n",
      " 6   Income_Category           10127 non-null  object \n",
      " 7   Card_Category             10127 non-null  object \n",
      " 8   Months_on_book            10127 non-null  int64  \n",
      " 9   Total_Relationship_Count  10127 non-null  int64  \n",
      " 10  Months_Inactive_12_mon    10127 non-null  int64  \n",
      " 11  Contacts_Count_12_mon     10127 non-null  int64  \n",
      " 12  Credit_Limit              10127 non-null  float64\n",
      " 13  Total_Revolving_Bal       10127 non-null  int64  \n",
      " 14  Avg_Open_To_Buy           10127 non-null  float64\n",
      " 15  Total_Amt_Chng_Q4_Q1      10127 non-null  float64\n",
      " 16  Total_Trans_Amt           10127 non-null  int64  \n",
      " 17  Total_Trans_Ct            10127 non-null  int64  \n",
      " 18  Total_Ct_Chng_Q4_Q1       10127 non-null  float64\n",
      " 19  Avg_Utilization_Ratio     10127 non-null  float64\n",
      "dtypes: float64(5), int64(11), object(4)\n",
      "memory usage: 1.5+ MB\n"
     ]
    }
   ],
   "source": [
    "df.info()"
   ]
  },
  {
   "cell_type": "markdown",
   "metadata": {},
   "source": [
    "### 2. Categorical variables\n",
    "\n",
    "Create dummy variables for __Education_Level, Marital_Status, Income_Category__ and __Card_Category__"
   ]
  },
  {
   "cell_type": "code",
   "execution_count": 11,
   "metadata": {},
   "outputs": [],
   "source": [
    "df = pd.get_dummies(df,columns=['Education_Level', 'Marital_Status', 'Income_Category', 'Card_Category'],drop_first=True)"
   ]
  },
  {
   "cell_type": "code",
   "execution_count": 12,
   "metadata": {},
   "outputs": [
    {
     "name": "stdout",
     "output_type": "stream",
     "text": [
      "<class 'pandas.core.frame.DataFrame'>\n",
      "RangeIndex: 10127 entries, 0 to 10126\n",
      "Data columns (total 33 columns):\n",
      " #   Column                          Non-Null Count  Dtype  \n",
      "---  ------                          --------------  -----  \n",
      " 0   Attrition_Flag                  10127 non-null  int64  \n",
      " 1   Customer_Age                    10127 non-null  int64  \n",
      " 2   Gender                          10127 non-null  int64  \n",
      " 3   Dependent_count                 10127 non-null  int64  \n",
      " 4   Months_on_book                  10127 non-null  int64  \n",
      " 5   Total_Relationship_Count        10127 non-null  int64  \n",
      " 6   Months_Inactive_12_mon          10127 non-null  int64  \n",
      " 7   Contacts_Count_12_mon           10127 non-null  int64  \n",
      " 8   Credit_Limit                    10127 non-null  float64\n",
      " 9   Total_Revolving_Bal             10127 non-null  int64  \n",
      " 10  Avg_Open_To_Buy                 10127 non-null  float64\n",
      " 11  Total_Amt_Chng_Q4_Q1            10127 non-null  float64\n",
      " 12  Total_Trans_Amt                 10127 non-null  int64  \n",
      " 13  Total_Trans_Ct                  10127 non-null  int64  \n",
      " 14  Total_Ct_Chng_Q4_Q1             10127 non-null  float64\n",
      " 15  Avg_Utilization_Ratio           10127 non-null  float64\n",
      " 16  Education_Level_Doctorate       10127 non-null  uint8  \n",
      " 17  Education_Level_Graduate        10127 non-null  uint8  \n",
      " 18  Education_Level_High School     10127 non-null  uint8  \n",
      " 19  Education_Level_Post-Graduate   10127 non-null  uint8  \n",
      " 20  Education_Level_Uneducated      10127 non-null  uint8  \n",
      " 21  Education_Level_Unknown         10127 non-null  uint8  \n",
      " 22  Marital_Status_Married          10127 non-null  uint8  \n",
      " 23  Marital_Status_Single           10127 non-null  uint8  \n",
      " 24  Marital_Status_Unknown          10127 non-null  uint8  \n",
      " 25  Income_Category_$40K - $60K     10127 non-null  uint8  \n",
      " 26  Income_Category_$60K - $80K     10127 non-null  uint8  \n",
      " 27  Income_Category_$80K - $120K    10127 non-null  uint8  \n",
      " 28  Income_Category_Less than $40K  10127 non-null  uint8  \n",
      " 29  Income_Category_Unknown         10127 non-null  uint8  \n",
      " 30  Card_Category_Gold              10127 non-null  uint8  \n",
      " 31  Card_Category_Platinum          10127 non-null  uint8  \n",
      " 32  Card_Category_Silver            10127 non-null  uint8  \n",
      "dtypes: float64(5), int64(11), uint8(17)\n",
      "memory usage: 1.4 MB\n"
     ]
    }
   ],
   "source": [
    "df.info()"
   ]
  },
  {
   "cell_type": "markdown",
   "metadata": {},
   "source": [
    "### 3. Target variable and rest\n",
    "__Attrition_Flag__ is the target variable"
   ]
  },
  {
   "cell_type": "code",
   "execution_count": 14,
   "metadata": {},
   "outputs": [],
   "source": [
    "y = df['Attrition_Flag']"
   ]
  },
  {
   "cell_type": "code",
   "execution_count": 16,
   "metadata": {},
   "outputs": [],
   "source": [
    "X = df.drop(columns=['Attrition_Flag'])"
   ]
  },
  {
   "cell_type": "code",
   "execution_count": 18,
   "metadata": {},
   "outputs": [
    {
     "data": {
      "text/plain": [
       "((10127,), (10127, 32))"
      ]
     },
     "execution_count": 18,
     "metadata": {},
     "output_type": "execute_result"
    }
   ],
   "source": [
    "y.shape, X.shape"
   ]
  },
  {
   "cell_type": "markdown",
   "metadata": {},
   "source": [
    "### 4. Scaling the data"
   ]
  },
  {
   "cell_type": "code",
   "execution_count": 20,
   "metadata": {},
   "outputs": [],
   "source": [
    "from sklearn.preprocessing import StandardScaler\n",
    "scaler = StandardScaler()\n",
    "X_scaled = scaler.fit_transform(X)"
   ]
  },
  {
   "cell_type": "code",
   "execution_count": 32,
   "metadata": {},
   "outputs": [
    {
     "data": {
      "text/plain": [
       "(10127, 32)"
      ]
     },
     "execution_count": 32,
     "metadata": {},
     "output_type": "execute_result"
    }
   ],
   "source": [
    "X_scaled.shape"
   ]
  },
  {
   "cell_type": "markdown",
   "metadata": {},
   "source": [
    "### 5. Splitting the data"
   ]
  },
  {
   "cell_type": "code",
   "execution_count": 36,
   "metadata": {},
   "outputs": [],
   "source": [
    "from sklearn.model_selection import train_test_split\n",
    "X_train, X_test, y_train, y_test = train_test_split(X_scaled,y,test_size=0.25, random_state=1, stratify=y)"
   ]
  },
  {
   "cell_type": "code",
   "execution_count": 37,
   "metadata": {},
   "outputs": [
    {
     "name": "stdout",
     "output_type": "stream",
     "text": [
      "(7595, 32) (2532, 32)\n",
      "(7595,) (2532,)\n"
     ]
    }
   ],
   "source": [
    "print(X_train.shape, X_test.shape)\n",
    "print(y_train.shape, y_test.shape)"
   ]
  },
  {
   "cell_type": "markdown",
   "metadata": {},
   "source": [
    "### 6. Dummy prediction\n",
    "\n",
    "Here I create a dummy prediction which just assumes every customer is not churning."
   ]
  },
  {
   "cell_type": "code",
   "execution_count": 49,
   "metadata": {},
   "outputs": [],
   "source": [
    "y_dum_pred = np.zeros((2532,), dtype=int)"
   ]
  },
  {
   "cell_type": "code",
   "execution_count": 50,
   "metadata": {},
   "outputs": [
    {
     "name": "stdout",
     "output_type": "stream",
     "text": [
      "              precision    recall  f1-score   support\n",
      "\n",
      "           0       0.84      1.00      0.91      2125\n",
      "           1       0.00      0.00      0.00       407\n",
      "\n",
      "    accuracy                           0.84      2532\n",
      "   macro avg       0.42      0.50      0.46      2532\n",
      "weighted avg       0.70      0.84      0.77      2532\n",
      "\n"
     ]
    },
    {
     "name": "stderr",
     "output_type": "stream",
     "text": [
      "/opt/anaconda3/lib/python3.8/site-packages/sklearn/metrics/_classification.py:1221: UndefinedMetricWarning: Precision and F-score are ill-defined and being set to 0.0 in labels with no predicted samples. Use `zero_division` parameter to control this behavior.\n",
      "  _warn_prf(average, modifier, msg_start, len(result))\n"
     ]
    }
   ],
   "source": [
    "from sklearn.metrics import classification_report\n",
    "print(classification_report(y_test,y_dum_pred))"
   ]
  },
  {
   "cell_type": "code",
   "execution_count": 51,
   "metadata": {},
   "outputs": [],
   "source": [
    "from sklearn.metrics import confusion_matrix\n",
    "pl = confusion_matrix(y_test,y_dum_pred)"
   ]
  },
  {
   "cell_type": "code",
   "execution_count": 62,
   "metadata": {},
   "outputs": [
    {
     "data": {
      "image/png": "[encoded data removed]",
      "text/plain": [
       "<Figure size 432x288 with 2 Axes>"
      ]
     },
     "metadata": {
      "needs_background": "light"
     },
     "output_type": "display_data"
    }
   ],
   "source": [
    "import seaborn as sns\n",
    "import matplotlib.pyplot as plt\n",
    "sns.heatmap(pl, annot=True, fmt ='d', cmap='Blues',linewidth=0.5)\n",
    "plt.xlabel('Predicted value')\n",
    "plt.ylabel('True value')\n",
    "plt.show()"
   ]
  },
  {
   "cell_type": "markdown",
   "metadata": {},
   "source": [
    "If those classification report is correct, I will be using those numbers as baseline."
   ]
  },
  {
   "cell_type": "markdown",
   "metadata": {},
   "source": [
    "### 7. Saving data"
   ]
  },
  {
   "cell_type": "code",
   "execution_count": 64,
   "metadata": {},
   "outputs": [],
   "source": [
    "df.to_csv('preprocessed.csv',index=False)"
   ]
  },
  {
   "cell_type": "code",
   "execution_count": null,
   "metadata": {},
   "outputs": [],
   "source": []
  }
 ],
 "metadata": {
  "kernelspec": {
   "display_name": "Python 3",
   "language": "python",
   "name": "python3"
  },
  "language_info": {
   "codemirror_mode": {
    "name": "ipython",
    "version": 3
   },
   "file_extension": ".py",
   "mimetype": "text/x-python",
   "name": "python",
   "nbconvert_exporter": "python",
   "pygments_lexer": "ipython3",
   "version": "3.8.3"
  }
 },
 "nbformat": 4,
 "nbformat_minor": 4
}
