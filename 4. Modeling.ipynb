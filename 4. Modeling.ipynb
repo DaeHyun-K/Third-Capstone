{
 "cells": [
  {
   "cell_type": "markdown",
   "metadata": {},
   "source": [
    "The problem I would like to solve is to identify key features related to the churning credit card customers. I got the data and the idea from the Kaggle website https://www.kaggle.com/sakshigoyal7/credit-card-customers. \n",
    "\n",
    "## Modeling\n",
    "\n",
    "Previously, during preprocessing, I made a dummy predictor that only assumes the result as no churning. This result will be used as the baseline for my further analysis.\n",
    "\n",
    "Comparing to the baseline model, I will be applying K-nearest neighbors, logistic regression, and RandomForest Classification models."
   ]
  },
  {
   "cell_type": "markdown",
   "metadata": {},
   "source": [
    "### 1. Importing data"
   ]
  },
  {
   "cell_type": "code",
   "execution_count": 1,
   "metadata": {},
   "outputs": [],
   "source": [
    "# First thing to do is to import modules\n",
    "import numpy as np\n",
    "import pandas as pd"
   ]
  },
  {
   "cell_type": "code",
   "execution_count": 2,
   "metadata": {},
   "outputs": [],
   "source": [
    "# Loading the data\n",
    "df = pd.read_csv('preprocessed.csv')"
   ]
  },
  {
   "cell_type": "code",
   "execution_count": 3,
   "metadata": {},
   "outputs": [
    {
     "data": {
      "text/html": [
       "<div>\n",
       "<style scoped>\n",
       "    .dataframe tbody tr th:only-of-type {\n",
       "        vertical-align: middle;\n",
       "    }\n",
       "\n",
       "    .dataframe tbody tr th {\n",
       "        vertical-align: top;\n",
       "    }\n",
       "\n",
       "    .dataframe thead th {\n",
       "        text-align: right;\n",
       "    }\n",
       "</style>\n",
       "<table border=\"1\" class=\"dataframe\">\n",
       "  <thead>\n",
       "    <tr style=\"text-align: right;\">\n",
       "      <th></th>\n",
       "      <th>0</th>\n",
       "      <th>1</th>\n",
       "      <th>2</th>\n",
       "      <th>3</th>\n",
       "      <th>4</th>\n",
       "    </tr>\n",
       "  </thead>\n",
       "  <tbody>\n",
       "    <tr>\n",
       "      <th>Attrition_Flag</th>\n",
       "      <td>0.000</td>\n",
       "      <td>0.000</td>\n",
       "      <td>0.000</td>\n",
       "      <td>0.000</td>\n",
       "      <td>0.000</td>\n",
       "    </tr>\n",
       "    <tr>\n",
       "      <th>Customer_Age</th>\n",
       "      <td>45.000</td>\n",
       "      <td>49.000</td>\n",
       "      <td>51.000</td>\n",
       "      <td>40.000</td>\n",
       "      <td>40.000</td>\n",
       "    </tr>\n",
       "    <tr>\n",
       "      <th>Gender</th>\n",
       "      <td>0.000</td>\n",
       "      <td>1.000</td>\n",
       "      <td>0.000</td>\n",
       "      <td>1.000</td>\n",
       "      <td>0.000</td>\n",
       "    </tr>\n",
       "    <tr>\n",
       "      <th>Dependent_count</th>\n",
       "      <td>3.000</td>\n",
       "      <td>5.000</td>\n",
       "      <td>3.000</td>\n",
       "      <td>4.000</td>\n",
       "      <td>3.000</td>\n",
       "    </tr>\n",
       "    <tr>\n",
       "      <th>Months_on_book</th>\n",
       "      <td>39.000</td>\n",
       "      <td>44.000</td>\n",
       "      <td>36.000</td>\n",
       "      <td>34.000</td>\n",
       "      <td>21.000</td>\n",
       "    </tr>\n",
       "    <tr>\n",
       "      <th>Total_Relationship_Count</th>\n",
       "      <td>5.000</td>\n",
       "      <td>6.000</td>\n",
       "      <td>4.000</td>\n",
       "      <td>3.000</td>\n",
       "      <td>5.000</td>\n",
       "    </tr>\n",
       "    <tr>\n",
       "      <th>Months_Inactive_12_mon</th>\n",
       "      <td>1.000</td>\n",
       "      <td>1.000</td>\n",
       "      <td>1.000</td>\n",
       "      <td>4.000</td>\n",
       "      <td>1.000</td>\n",
       "    </tr>\n",
       "    <tr>\n",
       "      <th>Contacts_Count_12_mon</th>\n",
       "      <td>3.000</td>\n",
       "      <td>2.000</td>\n",
       "      <td>0.000</td>\n",
       "      <td>1.000</td>\n",
       "      <td>0.000</td>\n",
       "    </tr>\n",
       "    <tr>\n",
       "      <th>Credit_Limit</th>\n",
       "      <td>12691.000</td>\n",
       "      <td>8256.000</td>\n",
       "      <td>3418.000</td>\n",
       "      <td>3313.000</td>\n",
       "      <td>4716.000</td>\n",
       "    </tr>\n",
       "    <tr>\n",
       "      <th>Total_Revolving_Bal</th>\n",
       "      <td>777.000</td>\n",
       "      <td>864.000</td>\n",
       "      <td>0.000</td>\n",
       "      <td>2517.000</td>\n",
       "      <td>0.000</td>\n",
       "    </tr>\n",
       "    <tr>\n",
       "      <th>Avg_Open_To_Buy</th>\n",
       "      <td>11914.000</td>\n",
       "      <td>7392.000</td>\n",
       "      <td>3418.000</td>\n",
       "      <td>796.000</td>\n",
       "      <td>4716.000</td>\n",
       "    </tr>\n",
       "    <tr>\n",
       "      <th>Total_Amt_Chng_Q4_Q1</th>\n",
       "      <td>1.335</td>\n",
       "      <td>1.541</td>\n",
       "      <td>2.594</td>\n",
       "      <td>1.405</td>\n",
       "      <td>2.175</td>\n",
       "    </tr>\n",
       "    <tr>\n",
       "      <th>Total_Trans_Amt</th>\n",
       "      <td>1144.000</td>\n",
       "      <td>1291.000</td>\n",
       "      <td>1887.000</td>\n",
       "      <td>1171.000</td>\n",
       "      <td>816.000</td>\n",
       "    </tr>\n",
       "    <tr>\n",
       "      <th>Total_Trans_Ct</th>\n",
       "      <td>42.000</td>\n",
       "      <td>33.000</td>\n",
       "      <td>20.000</td>\n",
       "      <td>20.000</td>\n",
       "      <td>28.000</td>\n",
       "    </tr>\n",
       "    <tr>\n",
       "      <th>Total_Ct_Chng_Q4_Q1</th>\n",
       "      <td>1.625</td>\n",
       "      <td>3.714</td>\n",
       "      <td>2.333</td>\n",
       "      <td>2.333</td>\n",
       "      <td>2.500</td>\n",
       "    </tr>\n",
       "    <tr>\n",
       "      <th>Avg_Utilization_Ratio</th>\n",
       "      <td>0.061</td>\n",
       "      <td>0.105</td>\n",
       "      <td>0.000</td>\n",
       "      <td>0.760</td>\n",
       "      <td>0.000</td>\n",
       "    </tr>\n",
       "    <tr>\n",
       "      <th>Education_Level_Doctorate</th>\n",
       "      <td>0.000</td>\n",
       "      <td>0.000</td>\n",
       "      <td>0.000</td>\n",
       "      <td>0.000</td>\n",
       "      <td>0.000</td>\n",
       "    </tr>\n",
       "    <tr>\n",
       "      <th>Education_Level_Graduate</th>\n",
       "      <td>0.000</td>\n",
       "      <td>1.000</td>\n",
       "      <td>1.000</td>\n",
       "      <td>0.000</td>\n",
       "      <td>0.000</td>\n",
       "    </tr>\n",
       "    <tr>\n",
       "      <th>Education_Level_High School</th>\n",
       "      <td>1.000</td>\n",
       "      <td>0.000</td>\n",
       "      <td>0.000</td>\n",
       "      <td>1.000</td>\n",
       "      <td>0.000</td>\n",
       "    </tr>\n",
       "    <tr>\n",
       "      <th>Education_Level_Post-Graduate</th>\n",
       "      <td>0.000</td>\n",
       "      <td>0.000</td>\n",
       "      <td>0.000</td>\n",
       "      <td>0.000</td>\n",
       "      <td>0.000</td>\n",
       "    </tr>\n",
       "    <tr>\n",
       "      <th>Education_Level_Uneducated</th>\n",
       "      <td>0.000</td>\n",
       "      <td>0.000</td>\n",
       "      <td>0.000</td>\n",
       "      <td>0.000</td>\n",
       "      <td>1.000</td>\n",
       "    </tr>\n",
       "    <tr>\n",
       "      <th>Education_Level_Unknown</th>\n",
       "      <td>0.000</td>\n",
       "      <td>0.000</td>\n",
       "      <td>0.000</td>\n",
       "      <td>0.000</td>\n",
       "      <td>0.000</td>\n",
       "    </tr>\n",
       "    <tr>\n",
       "      <th>Marital_Status_Married</th>\n",
       "      <td>1.000</td>\n",
       "      <td>0.000</td>\n",
       "      <td>1.000</td>\n",
       "      <td>0.000</td>\n",
       "      <td>1.000</td>\n",
       "    </tr>\n",
       "    <tr>\n",
       "      <th>Marital_Status_Single</th>\n",
       "      <td>0.000</td>\n",
       "      <td>1.000</td>\n",
       "      <td>0.000</td>\n",
       "      <td>0.000</td>\n",
       "      <td>0.000</td>\n",
       "    </tr>\n",
       "    <tr>\n",
       "      <th>Marital_Status_Unknown</th>\n",
       "      <td>0.000</td>\n",
       "      <td>0.000</td>\n",
       "      <td>0.000</td>\n",
       "      <td>1.000</td>\n",
       "      <td>0.000</td>\n",
       "    </tr>\n",
       "    <tr>\n",
       "      <th>Income_Category_$40K - $60K</th>\n",
       "      <td>0.000</td>\n",
       "      <td>0.000</td>\n",
       "      <td>0.000</td>\n",
       "      <td>0.000</td>\n",
       "      <td>0.000</td>\n",
       "    </tr>\n",
       "    <tr>\n",
       "      <th>Income_Category_$60K - $80K</th>\n",
       "      <td>1.000</td>\n",
       "      <td>0.000</td>\n",
       "      <td>0.000</td>\n",
       "      <td>0.000</td>\n",
       "      <td>1.000</td>\n",
       "    </tr>\n",
       "    <tr>\n",
       "      <th>Income_Category_$80K - $120K</th>\n",
       "      <td>0.000</td>\n",
       "      <td>0.000</td>\n",
       "      <td>1.000</td>\n",
       "      <td>0.000</td>\n",
       "      <td>0.000</td>\n",
       "    </tr>\n",
       "    <tr>\n",
       "      <th>Income_Category_Less than $40K</th>\n",
       "      <td>0.000</td>\n",
       "      <td>1.000</td>\n",
       "      <td>0.000</td>\n",
       "      <td>1.000</td>\n",
       "      <td>0.000</td>\n",
       "    </tr>\n",
       "    <tr>\n",
       "      <th>Income_Category_Unknown</th>\n",
       "      <td>0.000</td>\n",
       "      <td>0.000</td>\n",
       "      <td>0.000</td>\n",
       "      <td>0.000</td>\n",
       "      <td>0.000</td>\n",
       "    </tr>\n",
       "    <tr>\n",
       "      <th>Card_Category_Gold</th>\n",
       "      <td>0.000</td>\n",
       "      <td>0.000</td>\n",
       "      <td>0.000</td>\n",
       "      <td>0.000</td>\n",
       "      <td>0.000</td>\n",
       "    </tr>\n",
       "    <tr>\n",
       "      <th>Card_Category_Platinum</th>\n",
       "      <td>0.000</td>\n",
       "      <td>0.000</td>\n",
       "      <td>0.000</td>\n",
       "      <td>0.000</td>\n",
       "      <td>0.000</td>\n",
       "    </tr>\n",
       "    <tr>\n",
       "      <th>Card_Category_Silver</th>\n",
       "      <td>0.000</td>\n",
       "      <td>0.000</td>\n",
       "      <td>0.000</td>\n",
       "      <td>0.000</td>\n",
       "      <td>0.000</td>\n",
       "    </tr>\n",
       "  </tbody>\n",
       "</table>\n",
       "</div>"
      ],
      "text/plain": [
       "                                        0         1         2         3  \\\n",
       "Attrition_Flag                      0.000     0.000     0.000     0.000   \n",
       "Customer_Age                       45.000    49.000    51.000    40.000   \n",
       "Gender                              0.000     1.000     0.000     1.000   \n",
       "Dependent_count                     3.000     5.000     3.000     4.000   \n",
       "Months_on_book                     39.000    44.000    36.000    34.000   \n",
       "Total_Relationship_Count            5.000     6.000     4.000     3.000   \n",
       "Months_Inactive_12_mon              1.000     1.000     1.000     4.000   \n",
       "Contacts_Count_12_mon               3.000     2.000     0.000     1.000   \n",
       "Credit_Limit                    12691.000  8256.000  3418.000  3313.000   \n",
       "Total_Revolving_Bal               777.000   864.000     0.000  2517.000   \n",
       "Avg_Open_To_Buy                 11914.000  7392.000  3418.000   796.000   \n",
       "Total_Amt_Chng_Q4_Q1                1.335     1.541     2.594     1.405   \n",
       "Total_Trans_Amt                  1144.000  1291.000  1887.000  1171.000   \n",
       "Total_Trans_Ct                     42.000    33.000    20.000    20.000   \n",
       "Total_Ct_Chng_Q4_Q1                 1.625     3.714     2.333     2.333   \n",
       "Avg_Utilization_Ratio               0.061     0.105     0.000     0.760   \n",
       "Education_Level_Doctorate           0.000     0.000     0.000     0.000   \n",
       "Education_Level_Graduate            0.000     1.000     1.000     0.000   \n",
       "Education_Level_High School         1.000     0.000     0.000     1.000   \n",
       "Education_Level_Post-Graduate       0.000     0.000     0.000     0.000   \n",
       "Education_Level_Uneducated          0.000     0.000     0.000     0.000   \n",
       "Education_Level_Unknown             0.000     0.000     0.000     0.000   \n",
       "Marital_Status_Married              1.000     0.000     1.000     0.000   \n",
       "Marital_Status_Single               0.000     1.000     0.000     0.000   \n",
       "Marital_Status_Unknown              0.000     0.000     0.000     1.000   \n",
       "Income_Category_$40K - $60K         0.000     0.000     0.000     0.000   \n",
       "Income_Category_$60K - $80K         1.000     0.000     0.000     0.000   \n",
       "Income_Category_$80K - $120K        0.000     0.000     1.000     0.000   \n",
       "Income_Category_Less than $40K      0.000     1.000     0.000     1.000   \n",
       "Income_Category_Unknown             0.000     0.000     0.000     0.000   \n",
       "Card_Category_Gold                  0.000     0.000     0.000     0.000   \n",
       "Card_Category_Platinum              0.000     0.000     0.000     0.000   \n",
       "Card_Category_Silver                0.000     0.000     0.000     0.000   \n",
       "\n",
       "                                       4  \n",
       "Attrition_Flag                     0.000  \n",
       "Customer_Age                      40.000  \n",
       "Gender                             0.000  \n",
       "Dependent_count                    3.000  \n",
       "Months_on_book                    21.000  \n",
       "Total_Relationship_Count           5.000  \n",
       "Months_Inactive_12_mon             1.000  \n",
       "Contacts_Count_12_mon              0.000  \n",
       "Credit_Limit                    4716.000  \n",
       "Total_Revolving_Bal                0.000  \n",
       "Avg_Open_To_Buy                 4716.000  \n",
       "Total_Amt_Chng_Q4_Q1               2.175  \n",
       "Total_Trans_Amt                  816.000  \n",
       "Total_Trans_Ct                    28.000  \n",
       "Total_Ct_Chng_Q4_Q1                2.500  \n",
       "Avg_Utilization_Ratio              0.000  \n",
       "Education_Level_Doctorate          0.000  \n",
       "Education_Level_Graduate           0.000  \n",
       "Education_Level_High School        0.000  \n",
       "Education_Level_Post-Graduate      0.000  \n",
       "Education_Level_Uneducated         1.000  \n",
       "Education_Level_Unknown            0.000  \n",
       "Marital_Status_Married             1.000  \n",
       "Marital_Status_Single              0.000  \n",
       "Marital_Status_Unknown             0.000  \n",
       "Income_Category_$40K - $60K        0.000  \n",
       "Income_Category_$60K - $80K        1.000  \n",
       "Income_Category_$80K - $120K       0.000  \n",
       "Income_Category_Less than $40K     0.000  \n",
       "Income_Category_Unknown            0.000  \n",
       "Card_Category_Gold                 0.000  \n",
       "Card_Category_Platinum             0.000  \n",
       "Card_Category_Silver               0.000  "
      ]
     },
     "execution_count": 3,
     "metadata": {},
     "output_type": "execute_result"
    }
   ],
   "source": [
    "df.head().T"
   ]
  },
  {
   "cell_type": "code",
   "execution_count": 4,
   "metadata": {},
   "outputs": [],
   "source": [
    "y = df['Attrition_Flag']\n",
    "X = df.drop(columns=['Attrition_Flag'])"
   ]
  },
  {
   "cell_type": "code",
   "execution_count": 5,
   "metadata": {},
   "outputs": [],
   "source": [
    "from sklearn.preprocessing import StandardScaler\n",
    "scaler = StandardScaler()\n",
    "X_scaled = scaler.fit_transform(X)"
   ]
  },
  {
   "cell_type": "code",
   "execution_count": 6,
   "metadata": {},
   "outputs": [],
   "source": [
    "from sklearn.model_selection import train_test_split\n",
    "X_train, X_test, y_train, y_test = train_test_split(X_scaled,y,test_size=0.25, random_state=1, stratify=y)"
   ]
  },
  {
   "cell_type": "code",
   "execution_count": 7,
   "metadata": {},
   "outputs": [
    {
     "name": "stdout",
     "output_type": "stream",
     "text": [
      "(7595, 32) (2532, 32)\n",
      "(7595,) (2532,)\n"
     ]
    }
   ],
   "source": [
    "print(X_train.shape, X_test.shape)\n",
    "print(y_train.shape, y_test.shape)\n",
    "# now the data is ready to run the model"
   ]
  },
  {
   "cell_type": "markdown",
   "metadata": {},
   "source": [
    "### 2. Dummy predictor - Baseline model\n",
    "Here there is no churning customer."
   ]
  },
  {
   "cell_type": "code",
   "execution_count": 8,
   "metadata": {},
   "outputs": [],
   "source": [
    "y_dum_pred = np.zeros((2532,), dtype=int)"
   ]
  },
  {
   "cell_type": "code",
   "execution_count": 9,
   "metadata": {},
   "outputs": [
    {
     "name": "stdout",
     "output_type": "stream",
     "text": [
      "              precision    recall  f1-score   support\n",
      "\n",
      "           0       0.84      1.00      0.91      2125\n",
      "           1       0.00      0.00      0.00       407\n",
      "\n",
      "    accuracy                           0.84      2532\n",
      "   macro avg       0.42      0.50      0.46      2532\n",
      "weighted avg       0.70      0.84      0.77      2532\n",
      "\n"
     ]
    },
    {
     "name": "stderr",
     "output_type": "stream",
     "text": [
      "/opt/anaconda3/lib/python3.8/site-packages/sklearn/metrics/_classification.py:1221: UndefinedMetricWarning: Precision and F-score are ill-defined and being set to 0.0 in labels with no predicted samples. Use `zero_division` parameter to control this behavior.\n",
      "  _warn_prf(average, modifier, msg_start, len(result))\n"
     ]
    }
   ],
   "source": [
    "from sklearn.metrics import classification_report\n",
    "print(classification_report(y_test,y_dum_pred))"
   ]
  },
  {
   "cell_type": "code",
   "execution_count": 10,
   "metadata": {},
   "outputs": [],
   "source": [
    "from sklearn.metrics import confusion_matrix\n",
    "pl = confusion_matrix(y_test,y_dum_pred)"
   ]
  },
  {
   "cell_type": "code",
   "execution_count": 11,
   "metadata": {},
   "outputs": [
    {
     "data": {
      "image/png": "[encoded data removed]",
      "text/plain": [
       "<Figure size 432x288 with 2 Axes>"
      ]
     },
     "metadata": {
      "needs_background": "light"
     },
     "output_type": "display_data"
    }
   ],
   "source": [
    "import seaborn as sns\n",
    "import matplotlib.pyplot as plt\n",
    "sns.heatmap(pl, annot=True, fmt ='d', cmap='Blues',linewidth=0.5)\n",
    "plt.xlabel('Predicted value')\n",
    "plt.ylabel('True value')\n",
    "plt.show()"
   ]
  },
  {
   "cell_type": "markdown",
   "metadata": {},
   "source": [
    "### 3. K-Nearest Neighbors"
   ]
  },
  {
   "cell_type": "code",
   "execution_count": 12,
   "metadata": {},
   "outputs": [
    {
     "name": "stdout",
     "output_type": "stream",
     "text": [
      "{'n_neighbors': 5}\n",
      "0.8743910467412771\n"
     ]
    }
   ],
   "source": [
    "from sklearn.neighbors import KNeighborsClassifier\n",
    "from sklearn.model_selection import GridSearchCV\n",
    "\n",
    "param_grid={'n_neighbors': np.arange(1,20)}\n",
    "knn = KNeighborsClassifier()\n",
    "knn_cv = GridSearchCV(knn, param_grid, cv=5)\n",
    "knn_cv.fit(X_train,y_train)\n",
    "print(knn_cv.best_params_)\n",
    "print(knn_cv.best_score_)"
   ]
  },
  {
   "cell_type": "code",
   "execution_count": 13,
   "metadata": {},
   "outputs": [],
   "source": [
    "y_knn_pred = knn_cv.predict(X_test)"
   ]
  },
  {
   "cell_type": "code",
   "execution_count": 14,
   "metadata": {},
   "outputs": [
    {
     "name": "stdout",
     "output_type": "stream",
     "text": [
      "              precision    recall  f1-score   support\n",
      "\n",
      "           0       0.88      0.98      0.93      2125\n",
      "           1       0.72      0.30      0.43       407\n",
      "\n",
      "    accuracy                           0.87      2532\n",
      "   macro avg       0.80      0.64      0.68      2532\n",
      "weighted avg       0.85      0.87      0.85      2532\n",
      "\n"
     ]
    }
   ],
   "source": [
    "print(classification_report(y_test,y_knn_pred))"
   ]
  },
  {
   "cell_type": "code",
   "execution_count": 15,
   "metadata": {},
   "outputs": [
    {
     "data": {
      "image/png": "[encoded data removed]",
      "text/plain": [
       "<Figure size 432x288 with 2 Axes>"
      ]
     },
     "metadata": {
      "needs_background": "light"
     },
     "output_type": "display_data"
    }
   ],
   "source": [
    "p2 = confusion_matrix(y_test,y_knn_pred)\n",
    "sns.heatmap(p2, annot=True, fmt ='d', cmap='Blues',linewidth=0.5)\n",
    "plt.xlabel('Predicted value')\n",
    "plt.ylabel('True value')\n",
    "plt.show()"
   ]
  },
  {
   "cell_type": "markdown",
   "metadata": {},
   "source": [
    "### 4. Logistic Regression"
   ]
  },
  {
   "cell_type": "code",
   "execution_count": 16,
   "metadata": {},
   "outputs": [
    {
     "name": "stdout",
     "output_type": "stream",
     "text": [
      "{'solver': 'newton-cg', 'penalty': 'l2', 'C': 1} 0.9037524687294273\n"
     ]
    }
   ],
   "source": [
    "from sklearn.linear_model import LogisticRegression\n",
    "from sklearn.model_selection import RandomizedSearchCV\n",
    "logreg = LogisticRegression()\n",
    "\n",
    "# Hyper parameters\n",
    "param_grid = {'solver':['newton-cg', 'lbfgs', 'liblinear', 'sag', 'saga'],\n",
    "             'C': [0.01, 0.1, 1, 10, 100],\n",
    "             'penalty': ['l1', 'l2']}\n",
    "\n",
    "# define grid search\n",
    "logreg_cv = RandomizedSearchCV(logreg, param_distributions=param_grid, cv=5, n_jobs=-1)\n",
    "logreg_cv.fit(X_train,y_train)\n",
    "print(logreg_cv.best_params_, logreg_cv.best_score_)"
   ]
  },
  {
   "cell_type": "code",
   "execution_count": 17,
   "metadata": {},
   "outputs": [],
   "source": [
    "y_lr_pred = logreg_cv.predict(X_test)"
   ]
  },
  {
   "cell_type": "code",
   "execution_count": 18,
   "metadata": {},
   "outputs": [
    {
     "name": "stdout",
     "output_type": "stream",
     "text": [
      "              precision    recall  f1-score   support\n",
      "\n",
      "           0       0.92      0.97      0.95      2125\n",
      "           1       0.78      0.58      0.66       407\n",
      "\n",
      "    accuracy                           0.91      2532\n",
      "   macro avg       0.85      0.77      0.80      2532\n",
      "weighted avg       0.90      0.91      0.90      2532\n",
      "\n"
     ]
    }
   ],
   "source": [
    "print(classification_report(y_test,y_lr_pred))"
   ]
  },
  {
   "cell_type": "code",
   "execution_count": 19,
   "metadata": {},
   "outputs": [
    {
     "data": {
      "image/png": "[encoded data removed]",
      "text/plain": [
       "<Figure size 432x288 with 2 Axes>"
      ]
     },
     "metadata": {
      "needs_background": "light"
     },
     "output_type": "display_data"
    }
   ],
   "source": [
    "p3 = confusion_matrix(y_test,y_lr_pred)\n",
    "sns.heatmap(p3, annot=True, fmt ='d', cmap='Blues',linewidth=0.5)\n",
    "plt.xlabel('Predicted value')\n",
    "plt.ylabel('True value')\n",
    "plt.show()"
   ]
  },
  {
   "cell_type": "markdown",
   "metadata": {},
   "source": [
    "### 5. RandomForest Classification"
   ]
  },
  {
   "cell_type": "code",
   "execution_count": 20,
   "metadata": {},
   "outputs": [
    {
     "data": {
      "text/plain": [
       "{'n_estimators': 1000, 'max_depth': 10}"
      ]
     },
     "execution_count": 20,
     "metadata": {},
     "output_type": "execute_result"
    }
   ],
   "source": [
    "from sklearn.ensemble import RandomForestClassifier\n",
    "\n",
    "n_estimators = [10,100,200,500,1000,2000]\n",
    "RF = RandomForestClassifier(random_state=1, n_jobs=-1)\n",
    "grid_params={'n_estimators':n_estimators, 'max_depth':[3,4,5,6,7,8,9,10]}\n",
    "RF_cv = RandomizedSearchCV(RF,param_distributions=grid_params, cv=5, n_jobs=-1)\n",
    "RF_cv.fit(X_train,y_train)\n",
    "RF_cv.best_params_"
   ]
  },
  {
   "cell_type": "code",
   "execution_count": 21,
   "metadata": {},
   "outputs": [],
   "source": [
    "RF_a = RandomForestClassifier(random_state=1, n_jobs=-1, n_estimators=100, max_depth=9)\n",
    "RF_a.fit(X_train,y_train)\n",
    "y_RF_pred = RF_a.predict(X_test)"
   ]
  },
  {
   "cell_type": "code",
   "execution_count": 22,
   "metadata": {},
   "outputs": [
    {
     "name": "stdout",
     "output_type": "stream",
     "text": [
      "              precision    recall  f1-score   support\n",
      "\n",
      "           0       0.94      0.99      0.96      2125\n",
      "           1       0.91      0.68      0.78       407\n",
      "\n",
      "    accuracy                           0.94      2532\n",
      "   macro avg       0.93      0.83      0.87      2532\n",
      "weighted avg       0.94      0.94      0.93      2532\n",
      "\n"
     ]
    }
   ],
   "source": [
    "print(classification_report(y_test,y_RF_pred))"
   ]
  },
  {
   "cell_type": "code",
   "execution_count": 23,
   "metadata": {},
   "outputs": [
    {
     "data": {
      "image/png": "[encoded data removed]",
      "text/plain": [
       "<Figure size 432x288 with 2 Axes>"
      ]
     },
     "metadata": {
      "needs_background": "light"
     },
     "output_type": "display_data"
    }
   ],
   "source": [
    "p4 = confusion_matrix(y_test,y_RF_pred)\n",
    "sns.heatmap(p4, annot=True, fmt ='d', cmap='Blues',linewidth=0.5)\n",
    "plt.xlabel('Predicted value')\n",
    "plt.ylabel('True value')\n",
    "plt.show()"
   ]
  },
  {
   "cell_type": "markdown",
   "metadata": {},
   "source": [
    "So far, RandomForestClassification did the best with the most True positives and True negatives. "
   ]
  },
  {
   "cell_type": "code",
   "execution_count": 26,
   "metadata": {},
   "outputs": [
    {
     "name": "stdout",
     "output_type": "stream",
     "text": [
      "20\n"
     ]
    },
    {
     "data": {
      "image/png": "[encoded data removed]",
      "text/plain": [
       "<Figure size 720x720 with 1 Axes>"
      ]
     },
     "metadata": {
      "needs_background": "light"
     },
     "output_type": "display_data"
    }
   ],
   "source": [
    "feature_importance = RF_a.feature_importances_\n",
    "# make importances relative to max importance\n",
    "feature_importance = 100.0 * (feature_importance / feature_importance.max())[:20]\n",
    "sorted_idx = np.argsort(feature_importance)[:30]\n",
    "\n",
    "pos = np.arange(sorted_idx.shape[0]) + .5\n",
    "print(pos.size)\n",
    "sorted_idx.size\n",
    "plt.figure(figsize=(10,10))\n",
    "plt.barh(pos, feature_importance[sorted_idx], align='center')\n",
    "plt.yticks(pos, X.columns[sorted_idx])\n",
    "plt.xlabel('Relative Importance')\n",
    "plt.title('Variable Importance')\n",
    "plt.show()"
   ]
  },
  {
   "cell_type": "markdown",
   "metadata": {},
   "source": [
    "Several important features in determining churning customers were count and amount of transactions using the credit card. This is an obvious conclusion because for customers not using the credit card much, they are more likely to stop the service. \n",
    "\n",
    "One feature that stood out was __Total_Relationship_Count__ which is the number of product held by the customer. It seems like this can be a good indication to see how loyal the customer is to the credit card company. \n",
    "\n",
    "Another interesting finding was the minimal influence of the socieoeconomic status of the customer. The education level, gender, age, income category, and marital status didn't have much impact on churning prediction which was interesting to note. "
   ]
  },
  {
   "cell_type": "code",
   "execution_count": null,
   "metadata": {},
   "outputs": [],
   "source": []
  }
 ],
 "metadata": {
  "kernelspec": {
   "display_name": "Python 3",
   "language": "python",
   "name": "python3"
  },
  "language_info": {
   "codemirror_mode": {
    "name": "ipython",
    "version": 3
   },
   "file_extension": ".py",
   "mimetype": "text/x-python",
   "name": "python",
   "nbconvert_exporter": "python",
   "pygments_lexer": "ipython3",
   "version": "3.8.3"
  }
 },
 "nbformat": 4,
 "nbformat_minor": 4
}
